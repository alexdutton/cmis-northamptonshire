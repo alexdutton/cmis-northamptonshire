{
 "cells": [
  {
   "cell_type": "markdown",
   "metadata": {},
   "source": [
    "First, some imports…"
   ]
  },
  {
   "cell_type": "code",
   "execution_count": 28,
   "metadata": {},
   "outputs": [],
   "source": [
    "from lxml import etree\n",
    "import json\n",
    "import urllib.request\n",
    "from urllib.parse import urljoin"
   ]
  },
  {
   "cell_type": "code",
   "execution_count": 24,
   "metadata": {},
   "outputs": [],
   "source": [
    "BASE_URL = 'https://cmis.northamptonshire.gov.uk/cmis5live/'\n",
    "BASE_URL = 'https://cmis.derby.gov.uk/cmis5/'"
   ]
  },
  {
   "cell_type": "code",
   "execution_count": 25,
   "metadata": {},
   "outputs": [],
   "source": [
    "response = urllib.request.urlopen(urljoin(BASE_URL, 'Councillors.aspx'))\n",
    "xml = etree.parse(response, parser=etree.HTMLParser())"
   ]
  },
  {
   "cell_type": "code",
   "execution_count": 27,
   "metadata": {},
   "outputs": [
    {
     "data": {
      "text/plain": [
       "[{'name': 'Asaf Afzal'},\n",
       " {'name': 'Paul Hezelgrave'},\n",
       " {'name': 'Sarah Russell'},\n",
       " {'name': 'Steve Hassall'},\n",
       " {'name': 'Ged Potter'},\n",
       " {'name': 'Roy Webb'},\n",
       " {'name': 'Paul Bayliss'},\n",
       " {'name': 'John Evans'},\n",
       " {'name': 'Alan Graves'},\n",
       " {'name': 'Fareed Hussain'},\n",
       " {'name': 'Shiraz Khan'},\n",
       " {'name': 'Gulfraz Nawaz'},\n",
       " {'name': 'Joe Naitta'},\n",
       " {'name': 'Amo Raju'},\n",
       " {'name': 'Ruth Skelton'},\n",
       " {'name': 'Dom Anderson'},\n",
       " {'name': 'Ranjit Banwait'},\n",
       " {'name': 'Barbara Jackson'},\n",
       " {'name': 'Sara Bolton'},\n",
       " {'name': 'Jonathan Smale'},\n",
       " {'name': 'Linda Winter'},\n",
       " {'name': 'Alan Grimadell'},\n",
       " {'name': 'Philip Ingall'},\n",
       " {'name': 'Sean Marshall'},\n",
       " {'name': 'Lisa Eldret'},\n",
       " {'name': 'Martin Repton'},\n",
       " {'name': 'Jack Stanton'},\n",
       " {'name': 'Richard Hudson'},\n",
       " {'name': 'Martin Rawson'},\n",
       " {'name': 'Stephen Willoughby'},\n",
       " {'name': 'Eric Ashburner'},\n",
       " {'name': 'Lucy Care'},\n",
       " {'name': 'Mike Carr'},\n",
       " {'name': 'Diane Froggatt'},\n",
       " {'name': 'Paul Pegg'},\n",
       " {'name': 'John Whitby'},\n",
       " {'name': 'Alison Holmes'},\n",
       " {'name': 'Matthew Holmes'},\n",
       " {'name': 'John Keith'},\n",
       " {'name': 'Hardyal Dhindsa'},\n",
       " {'name': 'Jangir Khan'},\n",
       " {'name': 'Balbir Sandhu'},\n",
       " {'name': 'Mick Barker'},\n",
       " {'name': 'Frank Harwood'},\n",
       " {'name': 'Robin Wood'},\n",
       " {'name': 'Baggy Shanker'},\n",
       " {'name': 'Robin Turner'},\n",
       " {'name': 'Joanna West'},\n",
       " {'name': 'Christopher Poulter'},\n",
       " {'name': 'Nicola Roulstone'},\n",
       " {'name': 'Evonne Williams (nee Berry)'}]"
      ]
     },
     "execution_count": 27,
     "metadata": {},
     "output_type": "execute_result"
    }
   ],
   "source": [
    "people = xml.xpath(\"//div[@class='PE_People_PersonBlock']\")\n",
    "people = [{'name': ' '.join(p.xpath(\".//div[@class='NameLink']/a\")[0].text.split())}\n",
    " for p in people]\n",
    "people"
   ]
  },
  {
   "cell_type": "code",
   "execution_count": 30,
   "metadata": {},
   "outputs": [],
   "source": [
    "with open('people.json', 'w') as f:\n",
    "    json.dump(people, f)"
   ]
  }
 ],
 "metadata": {
  "kernelspec": {
   "display_name": "Python 3",
   "language": "python",
   "name": "python3"
  },
  "language_info": {
   "codemirror_mode": {
    "name": "ipython",
    "version": 3
   },
   "file_extension": ".py",
   "mimetype": "text/x-python",
   "name": "python",
   "nbconvert_exporter": "python",
   "pygments_lexer": "ipython3",
   "version": "3.6.4"
  }
 },
 "nbformat": 4,
 "nbformat_minor": 2
}
